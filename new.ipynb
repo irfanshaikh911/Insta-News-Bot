{
 "cells": [
  {
   "cell_type": "code",
   "execution_count": 15,
   "id": "ab367048",
   "metadata": {},
   "outputs": [
    {
     "name": "stderr",
     "output_type": "stream",
     "text": [
      "2025-06-18 22:34:30,945 - INFO - Instabot version: 0.117.0 Started\n",
      "2025-06-18 22:34:30,945 - INFO - Instabot version: 0.117.0 Started\n",
      "2025-06-18 22:34:30,945 - INFO - Instabot version: 0.117.0 Started\n",
      "2025-06-18 22:34:30,945 - INFO - Instabot version: 0.117.0 Started\n",
      "2025-06-18 22:34:30,945 - INFO - Instabot version: 0.117.0 Started\n",
      "2025-06-18 22:34:30,945 - INFO - Instabot version: 0.117.0 Started\n",
      "2025-06-18 22:34:30,945 - INFO - Instabot version: 0.117.0 Started\n",
      "2025-06-18 22:34:30,945 - INFO - Instabot version: 0.117.0 Started\n",
      "2025-06-18 22:34:30,945 - INFO - Instabot version: 0.117.0 Started\n",
      "2025-06-18 22:34:30,945 - INFO - Instabot version: 0.117.0 Started\n",
      "2025-06-18 22:34:30,945 - INFO - Instabot version: 0.117.0 Started\n",
      "2025-06-18 22:34:30,945 - INFO - Instabot version: 0.117.0 Started\n",
      "2025-06-18 22:34:30,945 - INFO - Instabot version: 0.117.0 Started\n"
     ]
    },
    {
     "ename": "KeyError",
     "evalue": "'ds_user'",
     "output_type": "error",
     "traceback": [
      "\u001b[1;31m---------------------------------------------------------------------------\u001b[0m",
      "\u001b[1;31mKeyError\u001b[0m                                  Traceback (most recent call last)",
      "Cell \u001b[1;32mIn[15], line 4\u001b[0m\n\u001b[0;32m      1\u001b[0m \u001b[38;5;28;01mfrom\u001b[39;00m \u001b[38;5;21;01minstabot\u001b[39;00m \u001b[38;5;28;01mimport\u001b[39;00m Bot\n\u001b[0;32m      3\u001b[0m bot \u001b[38;5;241m=\u001b[39m Bot()\n\u001b[1;32m----> 4\u001b[0m \u001b[43mbot\u001b[49m\u001b[38;5;241;43m.\u001b[39;49m\u001b[43mlogin\u001b[49m\u001b[43m(\u001b[49m\u001b[43musername\u001b[49m\u001b[38;5;241;43m=\u001b[39;49m\u001b[38;5;124;43m\"\u001b[39;49m\u001b[38;5;124;43mnewsbot2025\u001b[39;49m\u001b[38;5;124;43m\"\u001b[39;49m\u001b[43m,\u001b[49m\u001b[43m \u001b[49m\u001b[43mpassword\u001b[49m\u001b[38;5;241;43m=\u001b[39;49m\u001b[38;5;124;43m\"\u001b[39;49m\u001b[38;5;124;43mIrfan@123\u001b[39;49m\u001b[38;5;124;43m\"\u001b[39;49m\u001b[43m)\u001b[49m\n",
      "File \u001b[1;32mc:\\Users\\Shaikh Irfan\\AppData\\Local\\Programs\\Python\\Python311\\Lib\\site-packages\\instabot\\bot\\bot.py:443\u001b[0m, in \u001b[0;36mBot.login\u001b[1;34m(self, **args)\u001b[0m\n\u001b[0;32m    441\u001b[0m \u001b[38;5;28;01mif\u001b[39;00m \u001b[38;5;28mself\u001b[39m\u001b[38;5;241m.\u001b[39mproxy:\n\u001b[0;32m    442\u001b[0m     args[\u001b[38;5;124m\"\u001b[39m\u001b[38;5;124mproxy\u001b[39m\u001b[38;5;124m\"\u001b[39m] \u001b[38;5;241m=\u001b[39m \u001b[38;5;28mself\u001b[39m\u001b[38;5;241m.\u001b[39mproxy\n\u001b[1;32m--> 443\u001b[0m \u001b[38;5;28;01mif\u001b[39;00m \u001b[38;5;28;43mself\u001b[39;49m\u001b[38;5;241;43m.\u001b[39;49m\u001b[43mapi\u001b[49m\u001b[38;5;241;43m.\u001b[39;49m\u001b[43mlogin\u001b[49m\u001b[43m(\u001b[49m\u001b[38;5;241;43m*\u001b[39;49m\u001b[38;5;241;43m*\u001b[39;49m\u001b[43margs\u001b[49m\u001b[43m)\u001b[49m \u001b[38;5;129;01mis\u001b[39;00m \u001b[38;5;28;01mFalse\u001b[39;00m:\n\u001b[0;32m    444\u001b[0m     \u001b[38;5;28;01mreturn\u001b[39;00m \u001b[38;5;28;01mFalse\u001b[39;00m\n\u001b[0;32m    445\u001b[0m \u001b[38;5;28mself\u001b[39m\u001b[38;5;241m.\u001b[39mprepare()\n",
      "File \u001b[1;32mc:\\Users\\Shaikh Irfan\\AppData\\Local\\Programs\\Python\\Python311\\Lib\\site-packages\\instabot\\api\\api.py:240\u001b[0m, in \u001b[0;36mAPI.login\u001b[1;34m(self, username, password, force, proxy, use_cookie, use_uuid, cookie_fname, ask_for_code, set_device, generate_all_uuids, is_threaded)\u001b[0m\n\u001b[0;32m    235\u001b[0m msg \u001b[38;5;241m=\u001b[39m \u001b[38;5;124m\"\u001b[39m\u001b[38;5;124mLogin flow failed, the cookie is broken. Relogin again.\u001b[39m\u001b[38;5;124m\"\u001b[39m\n\u001b[0;32m    237\u001b[0m \u001b[38;5;28;01mif\u001b[39;00m use_cookie \u001b[38;5;129;01mis\u001b[39;00m \u001b[38;5;28;01mTrue\u001b[39;00m:\n\u001b[0;32m    238\u001b[0m     \u001b[38;5;66;03m# try:\u001b[39;00m\n\u001b[0;32m    239\u001b[0m     \u001b[38;5;28;01mif\u001b[39;00m (\n\u001b[1;32m--> 240\u001b[0m         \u001b[38;5;28;43mself\u001b[39;49m\u001b[38;5;241;43m.\u001b[39;49m\u001b[43mload_uuid_and_cookie\u001b[49m\u001b[43m(\u001b[49m\u001b[43mload_cookie\u001b[49m\u001b[38;5;241;43m=\u001b[39;49m\u001b[43muse_cookie\u001b[49m\u001b[43m,\u001b[49m\u001b[43m \u001b[49m\u001b[43mload_uuid\u001b[49m\u001b[38;5;241;43m=\u001b[39;49m\u001b[43muse_uuid\u001b[49m\u001b[43m)\u001b[49m\n\u001b[0;32m    241\u001b[0m         \u001b[38;5;129;01mis\u001b[39;00m \u001b[38;5;28;01mTrue\u001b[39;00m\n\u001b[0;32m    242\u001b[0m     ):\n\u001b[0;32m    243\u001b[0m         \u001b[38;5;66;03m# Check if the token loaded is valid.\u001b[39;00m\n\u001b[0;32m    244\u001b[0m         \u001b[38;5;28;01mif\u001b[39;00m \u001b[38;5;28mself\u001b[39m\u001b[38;5;241m.\u001b[39mlogin_flow(\u001b[38;5;28;01mFalse\u001b[39;00m) \u001b[38;5;129;01mis\u001b[39;00m \u001b[38;5;28;01mTrue\u001b[39;00m:\n\u001b[0;32m    245\u001b[0m             cookie_is_loaded \u001b[38;5;241m=\u001b[39m \u001b[38;5;28;01mTrue\u001b[39;00m\n",
      "File \u001b[1;32mc:\\Users\\Shaikh Irfan\\AppData\\Local\\Programs\\Python\\Python311\\Lib\\site-packages\\instabot\\api\\api.py:199\u001b[0m, in \u001b[0;36mAPI.load_uuid_and_cookie\u001b[1;34m(self, load_uuid, load_cookie)\u001b[0m\n\u001b[0;32m    198\u001b[0m \u001b[38;5;28;01mdef\u001b[39;00m \u001b[38;5;21mload_uuid_and_cookie\u001b[39m(\u001b[38;5;28mself\u001b[39m, load_uuid\u001b[38;5;241m=\u001b[39m\u001b[38;5;28;01mTrue\u001b[39;00m, load_cookie\u001b[38;5;241m=\u001b[39m\u001b[38;5;28;01mTrue\u001b[39;00m):\n\u001b[1;32m--> 199\u001b[0m     \u001b[38;5;28;01mreturn\u001b[39;00m \u001b[43mload_uuid_and_cookie\u001b[49m\u001b[43m(\u001b[49m\u001b[38;5;28;43mself\u001b[39;49m\u001b[43m,\u001b[49m\u001b[43m \u001b[49m\u001b[43mload_uuid\u001b[49m\u001b[38;5;241;43m=\u001b[39;49m\u001b[43mload_uuid\u001b[49m\u001b[43m,\u001b[49m\u001b[43m \u001b[49m\u001b[43mload_cookie\u001b[49m\u001b[38;5;241;43m=\u001b[39;49m\u001b[43mload_cookie\u001b[49m\u001b[43m)\u001b[49m\n",
      "File \u001b[1;32mc:\\Users\\Shaikh Irfan\\AppData\\Local\\Programs\\Python\\Python311\\Lib\\site-packages\\instabot\\api\\api_login.py:352\u001b[0m, in \u001b[0;36mload_uuid_and_cookie\u001b[1;34m(self, load_uuid, load_cookie)\u001b[0m\n\u001b[0;32m    348\u001b[0m \u001b[38;5;28mself\u001b[39m\u001b[38;5;241m.\u001b[39mlogger\u001b[38;5;241m.\u001b[39mdebug(\u001b[38;5;124m\"\u001b[39m\u001b[38;5;124mLoading cookies\u001b[39m\u001b[38;5;124m\"\u001b[39m)\n\u001b[0;32m    349\u001b[0m \u001b[38;5;28mself\u001b[39m\u001b[38;5;241m.\u001b[39msession\u001b[38;5;241m.\u001b[39mcookies \u001b[38;5;241m=\u001b[39m requests\u001b[38;5;241m.\u001b[39mutils\u001b[38;5;241m.\u001b[39mcookiejar_from_dict(\n\u001b[0;32m    350\u001b[0m     data[\u001b[38;5;124m\"\u001b[39m\u001b[38;5;124mcookie\u001b[39m\u001b[38;5;124m\"\u001b[39m]\n\u001b[0;32m    351\u001b[0m )\n\u001b[1;32m--> 352\u001b[0m cookie_username \u001b[38;5;241m=\u001b[39m \u001b[38;5;28;43mself\u001b[39;49m\u001b[38;5;241;43m.\u001b[39;49m\u001b[43mcookie_dict\u001b[49m\u001b[43m[\u001b[49m\u001b[38;5;124;43m\"\u001b[39;49m\u001b[38;5;124;43mds_user\u001b[39;49m\u001b[38;5;124;43m\"\u001b[39;49m\u001b[43m]\u001b[49m\n\u001b[0;32m    353\u001b[0m \u001b[38;5;28;01massert\u001b[39;00m cookie_username \u001b[38;5;241m==\u001b[39m \u001b[38;5;28mself\u001b[39m\u001b[38;5;241m.\u001b[39musername\u001b[38;5;241m.\u001b[39mlower()\n\u001b[0;32m    354\u001b[0m \u001b[38;5;28mself\u001b[39m\u001b[38;5;241m.\u001b[39mcookie_dict[\u001b[38;5;124m\"\u001b[39m\u001b[38;5;124murlgen\u001b[39m\u001b[38;5;124m\"\u001b[39m]\n",
      "\u001b[1;31mKeyError\u001b[0m: 'ds_user'"
     ]
    }
   ],
   "source": [
    "from instabot import Bot\n",
    "\n",
    "bot = Bot()\n",
    "bot.login(username=\"newsbot2025\", password=\"Irfan@123\")"
   ]
  },
  {
   "cell_type": "code",
   "execution_count": null,
   "id": "897a57c9",
   "metadata": {},
   "outputs": [],
   "source": []
  }
 ],
 "metadata": {
  "kernelspec": {
   "display_name": "Python 3",
   "language": "python",
   "name": "python3"
  },
  "language_info": {
   "codemirror_mode": {
    "name": "ipython",
    "version": 3
   },
   "file_extension": ".py",
   "mimetype": "text/x-python",
   "name": "python",
   "nbconvert_exporter": "python",
   "pygments_lexer": "ipython3",
   "version": "3.11.4"
  }
 },
 "nbformat": 4,
 "nbformat_minor": 5
}
