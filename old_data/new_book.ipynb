{
 "cells": [
  {
   "cell_type": "code",
   "execution_count": 2,
   "id": "8621c986",
   "metadata": {},
   "outputs": [],
   "source": [
    "import pandas as pd"
   ]
  },
  {
   "cell_type": "code",
   "execution_count": 3,
   "id": "16f70bd7",
   "metadata": {},
   "outputs": [],
   "source": [
    "df = pd.read_csv(r'C:\\Users\\Shaikh Irfan\\Documents\\Ai Adeventures\\Insta Bot\\data\\google_news_technology.csv')"
   ]
  },
  {
   "cell_type": "code",
   "execution_count": 7,
   "id": "7dedbbb3",
   "metadata": {},
   "outputs": [],
   "source": [
    "import requests\n",
    "from bs4 import BeautifulSoup"
   ]
  },
  {
   "cell_type": "code",
   "execution_count": 31,
   "id": "bcc5fbd7",
   "metadata": {},
   "outputs": [
    {
     "data": {
      "text/plain": [
       "45"
      ]
     },
     "execution_count": 31,
     "metadata": {},
     "output_type": "execute_result"
    }
   ],
   "source": [
    "len(df)"
   ]
  },
  {
   "cell_type": "code",
   "execution_count": 47,
   "id": "d47f9e20",
   "metadata": {},
   "outputs": [],
   "source": [
    "def user_selection(data):\n",
    "    # Display all titles with an index\n",
    "    for idx, title in enumerate(data['title']):\n",
    "        print(f\"{idx+1}. {title}\")\n",
    "\n",
    "    # Take user input once and validate\n",
    "    try:\n",
    "        choice = int(input(f\"\\nEnter the number of the article you want to select (1-{len(data)}): \"))\n",
    "        if 1 <= choice <= len(data):\n",
    "            # selected_row = data.iloc[choice-1]\n",
    "            print(\"\\nYou selected:\")\n",
    "            print(choice)\n",
    "            return choice\n",
    "        else:\n",
    "            print(\"Invalid selection. Please enter a number within the range.\")\n",
    "            return None\n",
    "    except ValueError:\n",
    "        print(\"Invalid input. Please enter a valid number.\")\n",
    "        return None\n",
    "\n",
    "# Example usage:\n",
    "#"
   ]
  },
  {
   "cell_type": "code",
   "execution_count": 48,
   "id": "07d37286",
   "metadata": {},
   "outputs": [
    {
     "name": "stdout",
     "output_type": "stream",
     "text": [
      "1. Oh hey, Pauline is Donkey Kong’s co-op partner in Bananza\n",
      "2. Report: Google's switch to TSMC for Pixel 10 chip was a 'shock' and wake-up call for Samsung\n",
      "3. Google Messages rolling out Delete for everyone, Snooze notifications, & more\n",
      "4. Midjourney launches its first AI video generation model, V1\n",
      "5. Leak reveals early details of new compact OnePlus gaming tablet\n",
      "6. YouTube is plugging Veo 3 AI videos directly into Shorts\n",
      "7. John Gruber Reacts to Apple Declining His Interview After His Criticism\n",
      "8. How to unlock Peter Pan in Disney Dreamlight Valley\n",
      "9. Framework Laptop 12: An Upgrade-Friendly, Convertible 2-in-1 Linux Laptop Review\n",
      "10. Your Samsung Galaxy Watch is about to get a big upgrade for free - 4 features I can't wait to try\n",
      "11. 16 Billion Apple, Facebook, Google And Other Passwords Leaked — Act Now\n",
      "12. Samsung’s first Android XR headset reportedly releasing in October\n",
      "13. Apple looking to make 'premium' priced folding iPhones starting next year, analyst says\n",
      "14. You Can Download the iOS 26 Developer Beta Right Now. Here's How to Get It on Your iPhone\n",
      "15. New Linux Flaws Enable Full Root Access via PAM and Udisks Across Major Distributions\n",
      "16. Adobe Is Developing AI-Powered Culling Tools for Lightroom\n",
      "17. We compare Raidou Remastered on Switch 2, Steam Deck, Switch 1, & ROG Ally covering visuals and performance\n",
      "18. Rocket League Patch Notes v2.53\n",
      "19. Patapon Remains an All-Time PlayStation Classic in Licensed PS5 Port\n",
      "20. What Bungie Will Add To ‘Marathon’ After Its Announced Delay\n",
      "21. AirPods Pro 2 Are Back at Their Lowest Price as Apple Clears Out Limited Stock on Amazon\n",
      "22. Facebook rolls out passkey support to fight phishing attacks\n",
      "23. Varda to launch its first in-house built spacecraft for on-orbit manufacturing\n",
      "24. Nintendo Switch 2 and Switch update 20.1.5 out now, patch notes\n",
      "25. Final Fantasy Tactics remade \"by sheer force\", as original source code no longer exists\n",
      "26. Drafting Magic: The Gathering®—FINAL FANTASY™ at the Pro Tour\n",
      "27. Venturi Space announces European lunar rover design\n",
      "28. GTA+ Members Get Early Access to Claim the New Överflöd Suzume Supercar\n",
      "29. Hades 2 finally reveals Narcissus, and he’s more scandalous than anyone imagined\n",
      "30. Tony Khan says he’ll never take a bump again after getting hit with ‘the deadliest move’ in AEW\n",
      "31. Nintendo just banned a ton of Switch 2 consoles, turning them into offline-only bricks\n",
      "32. Gearbox talks Borderlands 4: Exploration, fixing the meme humor, and entering the series’ ‘Simpsons Era’\n",
      "33. Xbox has turned a corner — the future for Microsoft's gaming platform once again looks incredibly bright\n",
      "34. Grab these free retro Sega games for iPhone before it’s too late\n",
      "35. The Atlantic is making a big push into games\n",
      "36. Elden Ring Nightreign Is Lying To You About How Long It Takes To Revive Someone And It's Not Even Close\n",
      "37. Mini Review: Still Wakes the Deep: Siren's Rest (PS5) - Scottish Horror Loses the Magic\n",
      "38. Mario Kart World 1.1.1 update out now, patch notes\n",
      "39. Warner Bros. Games Restructures Into Divisions Centered On Core Franchises\n",
      "40. All Glowing Musical Note locations in Disney Dreamlight Valley\n",
      "41. All the New CarPlay Features in iOS 26\n",
      "42. Looks Like 'Red Dead Redemption 2' Is Getting That Big Update After All\n",
      "43. MindsEye developers Build A Rocket Boy deny using bots to promote their game about bots going bad\n",
      "44. Pixel Owners Say Android 16 Update Forcing Them to Give Up\n",
      "45. How to Watch the Northern Lights from These 8 States Tonight\n",
      "\n",
      "You selected:\n",
      "5\n"
     ]
    }
   ],
   "source": [
    "choice = user_selection(df)"
   ]
  },
  {
   "cell_type": "code",
   "execution_count": null,
   "id": "01afb33c",
   "metadata": {},
   "outputs": [],
   "source": []
  }
 ],
 "metadata": {
  "kernelspec": {
   "display_name": "Python 3",
   "language": "python",
   "name": "python3"
  },
  "language_info": {
   "codemirror_mode": {
    "name": "ipython",
    "version": 3
   },
   "file_extension": ".py",
   "mimetype": "text/x-python",
   "name": "python",
   "nbconvert_exporter": "python",
   "pygments_lexer": "ipython3",
   "version": "3.11.4"
  }
 },
 "nbformat": 4,
 "nbformat_minor": 5
}
